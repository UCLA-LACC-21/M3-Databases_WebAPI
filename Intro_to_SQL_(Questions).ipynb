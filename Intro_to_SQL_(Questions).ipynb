{
  "nbformat": 4,
  "nbformat_minor": 0,
  "metadata": {
    "colab": {
      "name": "Intro to SQL (Questions).ipynb",
      "provenance": [],
      "collapsed_sections": []
    },
    "kernelspec": {
      "name": "python3",
      "display_name": "Python 3"
    },
    "language_info": {
      "name": "python"
    }
  },
  "cells": [
    {
      "cell_type": "code",
      "metadata": {
        "id": "D8K98P-vD7vo",
        "colab": {
          "base_uri": "https://localhost:8080/",
          "height": 360
        },
        "outputId": "99f0fc11-bc90-4a50-c763-25eabc4f5d63"
      },
      "source": [
        "print(\"installing MySQL...\")\n",
        "!apt-get install mysql-server > /dev/null\n",
        "\n",
        "# start MySQL\n",
        "print(\"starting MySQL...\")\n",
        "!service mysql start\n",
        "\n",
        "# create MySQL user\n",
        "print(\"creating MySQL user...\")\n",
        "!mysql -e \"ALTER USER 'root'@'localhost' IDENTIFIED WITH mysql_native_password BY 'root'\"\n",
        "\n",
        "# save password locally for easy log in\n",
        "!printf \"[client]\\npassword = root\" > ~/.my.cnf\n",
        "\n",
        "# install Python MySQL\n",
        "print(\"installing MySQL for Python...\")\n",
        "!pip -q install PyMySQL\n",
        "\n",
        "# create MySQL connection\n",
        "%load_ext sql\n",
        "%config SqlMagic.feedback=False \n",
        "%config SqlMagic.autopandas=True\n",
        "%sql mysql+pymysql://root:root@/\n",
        "# query using %sql or %%sql\n",
        "df = %sql SELECT Host, User, authentication_string FROM mysql.user\n",
        "df"
      ],
      "execution_count": null,
      "outputs": [
        {
          "output_type": "stream",
          "text": [
            "installing MySQL...\n",
            "W: APT had planned for dpkg to do more than it reported back (3 vs 7).\n",
            "   Affected packages: mysql-server-5.7:amd64\n",
            "starting MySQL...\n",
            " * Starting MySQL database server mysqld\n",
            "   ...done.\n",
            "creating MySQL user...\n",
            "installing MySQL for Python...\n",
            "The sql extension is already loaded. To reload it, use:\n",
            "  %reload_ext sql\n",
            " * mysql+pymysql://root:***@/\n"
          ],
          "name": "stdout"
        },
        {
          "output_type": "execute_result",
          "data": {
            "text/html": [
              "<div>\n",
              "<style scoped>\n",
              "    .dataframe tbody tr th:only-of-type {\n",
              "        vertical-align: middle;\n",
              "    }\n",
              "\n",
              "    .dataframe tbody tr th {\n",
              "        vertical-align: top;\n",
              "    }\n",
              "\n",
              "    .dataframe thead th {\n",
              "        text-align: right;\n",
              "    }\n",
              "</style>\n",
              "<table border=\"1\" class=\"dataframe\">\n",
              "  <thead>\n",
              "    <tr style=\"text-align: right;\">\n",
              "      <th></th>\n",
              "      <th>Host</th>\n",
              "      <th>User</th>\n",
              "      <th>authentication_string</th>\n",
              "    </tr>\n",
              "  </thead>\n",
              "  <tbody>\n",
              "    <tr>\n",
              "      <th>0</th>\n",
              "      <td>localhost</td>\n",
              "      <td>root</td>\n",
              "      <td>*81F5E21E35407D884A6CD4A731AEBFB6AF209E1B</td>\n",
              "    </tr>\n",
              "    <tr>\n",
              "      <th>1</th>\n",
              "      <td>localhost</td>\n",
              "      <td>mysql.session</td>\n",
              "      <td>*THISISNOTAVALIDPASSWORDTHATCANBEUSEDHERE</td>\n",
              "    </tr>\n",
              "    <tr>\n",
              "      <th>2</th>\n",
              "      <td>localhost</td>\n",
              "      <td>mysql.sys</td>\n",
              "      <td>*THISISNOTAVALIDPASSWORDTHATCANBEUSEDHERE</td>\n",
              "    </tr>\n",
              "    <tr>\n",
              "      <th>3</th>\n",
              "      <td>localhost</td>\n",
              "      <td>debian-sys-maint</td>\n",
              "      <td>*85682511E0F7A351B2C858BCE7293EA14509E733</td>\n",
              "    </tr>\n",
              "  </tbody>\n",
              "</table>\n",
              "</div>"
            ],
            "text/plain": [
              "        Host              User                      authentication_string\n",
              "0  localhost              root  *81F5E21E35407D884A6CD4A731AEBFB6AF209E1B\n",
              "1  localhost     mysql.session  *THISISNOTAVALIDPASSWORDTHATCANBEUSEDHERE\n",
              "2  localhost         mysql.sys  *THISISNOTAVALIDPASSWORDTHATCANBEUSEDHERE\n",
              "3  localhost  debian-sys-maint  *85682511E0F7A351B2C858BCE7293EA14509E733"
            ]
          },
          "metadata": {
            "tags": []
          },
          "execution_count": 8
        }
      ]
    },
    {
      "cell_type": "code",
      "metadata": {
        "id": "SwMY1CUMRUDd"
      },
      "source": [
        "#DOWNLOAD DATA FROM \n",
        "# https://drive.google.com/file/d/1kaAJ2BOvDzyl_gXf2RtbaHIsVkNA4yDC/view?usp=sharing\n",
        "# and upload to Colab (click the folder on the left panel, then click the file upload)"
      ],
      "execution_count": null,
      "outputs": []
    },
    {
      "cell_type": "code",
      "metadata": {
        "id": "akGvu1wpEo7L",
        "colab": {
          "base_uri": "https://localhost:8080/",
          "height": 306
        },
        "outputId": "c27d63d9-9cde-4240-955a-c52906c96b59"
      },
      "source": [
        "# load database from file\n",
        "%sql CREATE DATABASE lacc\n",
        "!mysql -u root lacc < lacc_orders.sql \n",
        "%sql USE lacc\n",
        "%sql SHOW TABLES;\n"
      ],
      "execution_count": null,
      "outputs": [
        {
          "output_type": "stream",
          "text": [
            " * mysql+pymysql://root:***@/\n",
            "(pymysql.err.ProgrammingError) (1007, \"Can't create database 'lacc'; database exists\")\n",
            "[SQL: CREATE DATABASE lacc]\n",
            "(Background on this error at: http://sqlalche.me/e/14/f405)\n",
            " * mysql+pymysql://root:***@/\n",
            " * mysql+pymysql://root:***@/\n"
          ],
          "name": "stdout"
        },
        {
          "output_type": "execute_result",
          "data": {
            "text/html": [
              "<div>\n",
              "<style scoped>\n",
              "    .dataframe tbody tr th:only-of-type {\n",
              "        vertical-align: middle;\n",
              "    }\n",
              "\n",
              "    .dataframe tbody tr th {\n",
              "        vertical-align: top;\n",
              "    }\n",
              "\n",
              "    .dataframe thead th {\n",
              "        text-align: right;\n",
              "    }\n",
              "</style>\n",
              "<table border=\"1\" class=\"dataframe\">\n",
              "  <thead>\n",
              "    <tr style=\"text-align: right;\">\n",
              "      <th></th>\n",
              "      <th>Tables_in_lacc</th>\n",
              "    </tr>\n",
              "  </thead>\n",
              "  <tbody>\n",
              "    <tr>\n",
              "      <th>0</th>\n",
              "      <td>categories</td>\n",
              "    </tr>\n",
              "    <tr>\n",
              "      <th>1</th>\n",
              "      <td>item_category</td>\n",
              "    </tr>\n",
              "    <tr>\n",
              "      <th>2</th>\n",
              "      <td>items</td>\n",
              "    </tr>\n",
              "    <tr>\n",
              "      <th>3</th>\n",
              "      <td>order_items</td>\n",
              "    </tr>\n",
              "    <tr>\n",
              "      <th>4</th>\n",
              "      <td>orders</td>\n",
              "    </tr>\n",
              "  </tbody>\n",
              "</table>\n",
              "</div>"
            ],
            "text/plain": [
              "  Tables_in_lacc\n",
              "0     categories\n",
              "1  item_category\n",
              "2          items\n",
              "3    order_items\n",
              "4         orders"
            ]
          },
          "metadata": {
            "tags": []
          },
          "execution_count": 9
        }
      ]
    },
    {
      "cell_type": "code",
      "metadata": {
        "id": "JwjJwyKrGsb9",
        "colab": {
          "base_uri": "https://localhost:8080/",
          "height": 436
        },
        "outputId": "73c01974-8d8b-4c39-8fb2-db6ed4ff2275"
      },
      "source": [
        "#show all orders\n",
        "%%sql \n",
        "SELECT *\n",
        "FROM items"
      ],
      "execution_count": null,
      "outputs": [
        {
          "output_type": "stream",
          "text": [
            " * mysql+pymysql://root:***@/\n"
          ],
          "name": "stdout"
        },
        {
          "output_type": "execute_result",
          "data": {
            "text/html": [
              "<div>\n",
              "<style scoped>\n",
              "    .dataframe tbody tr th:only-of-type {\n",
              "        vertical-align: middle;\n",
              "    }\n",
              "\n",
              "    .dataframe tbody tr th {\n",
              "        vertical-align: top;\n",
              "    }\n",
              "\n",
              "    .dataframe thead th {\n",
              "        text-align: right;\n",
              "    }\n",
              "</style>\n",
              "<table border=\"1\" class=\"dataframe\">\n",
              "  <thead>\n",
              "    <tr style=\"text-align: right;\">\n",
              "      <th></th>\n",
              "      <th>id</th>\n",
              "      <th>name</th>\n",
              "      <th>descrip</th>\n",
              "      <th>price</th>\n",
              "      <th>qty</th>\n",
              "    </tr>\n",
              "  </thead>\n",
              "  <tbody>\n",
              "    <tr>\n",
              "      <th>0</th>\n",
              "      <td>1</td>\n",
              "      <td>Eggs</td>\n",
              "      <td>Dozen XL</td>\n",
              "      <td>269</td>\n",
              "      <td>12</td>\n",
              "    </tr>\n",
              "    <tr>\n",
              "      <th>1</th>\n",
              "      <td>2</td>\n",
              "      <td>White Bread</td>\n",
              "      <td>Wonder Bread</td>\n",
              "      <td>299</td>\n",
              "      <td>0</td>\n",
              "    </tr>\n",
              "    <tr>\n",
              "      <th>2</th>\n",
              "      <td>3</td>\n",
              "      <td>Arnold Whole Grains</td>\n",
              "      <td>1 lb, 8 oz</td>\n",
              "      <td>499</td>\n",
              "      <td>0</td>\n",
              "    </tr>\n",
              "    <tr>\n",
              "      <th>3</th>\n",
              "      <td>4</td>\n",
              "      <td>Clover Farms, Whole Milk</td>\n",
              "      <td>1/2 Gallon</td>\n",
              "      <td>299</td>\n",
              "      <td>0</td>\n",
              "    </tr>\n",
              "    <tr>\n",
              "      <th>4</th>\n",
              "      <td>5</td>\n",
              "      <td>Clover Farms, 2% Milk</td>\n",
              "      <td>1/2 Gallon</td>\n",
              "      <td>299</td>\n",
              "      <td>8</td>\n",
              "    </tr>\n",
              "    <tr>\n",
              "      <th>...</th>\n",
              "      <td>...</td>\n",
              "      <td>...</td>\n",
              "      <td>...</td>\n",
              "      <td>...</td>\n",
              "      <td>...</td>\n",
              "    </tr>\n",
              "    <tr>\n",
              "      <th>369</th>\n",
              "      <td>377</td>\n",
              "      <td>Backwoods, Dark Stout</td>\n",
              "      <td>5 count | Must be 21+ to order. Must present I...</td>\n",
              "      <td>799</td>\n",
              "      <td>3</td>\n",
              "    </tr>\n",
              "    <tr>\n",
              "      <th>370</th>\n",
              "      <td>378</td>\n",
              "      <td>Lava2, Black Pod Mod</td>\n",
              "      <td>Charger Included | Must be 21+ to order. Must ...</td>\n",
              "      <td>2799</td>\n",
              "      <td>1</td>\n",
              "    </tr>\n",
              "    <tr>\n",
              "      <th>371</th>\n",
              "      <td>379</td>\n",
              "      <td>Lava2, Rainbow Pod Mod</td>\n",
              "      <td>Charger Included | Must be 21+ to order. Must ...</td>\n",
              "      <td>2799</td>\n",
              "      <td>2</td>\n",
              "    </tr>\n",
              "    <tr>\n",
              "      <th>372</th>\n",
              "      <td>380</td>\n",
              "      <td>Lava2, Rose Gold Pod Mod</td>\n",
              "      <td>Charger Included | Must be 21+ to order. Must ...</td>\n",
              "      <td>2799</td>\n",
              "      <td>4</td>\n",
              "    </tr>\n",
              "    <tr>\n",
              "      <th>373</th>\n",
              "      <td>381</td>\n",
              "      <td>Lava2, Blue Pod Mod</td>\n",
              "      <td>Charger Included | Must be 21+ to order. Must ...</td>\n",
              "      <td>2799</td>\n",
              "      <td>3</td>\n",
              "    </tr>\n",
              "  </tbody>\n",
              "</table>\n",
              "<p>374 rows × 5 columns</p>\n",
              "</div>"
            ],
            "text/plain": [
              "      id                      name  ... price  qty\n",
              "0      1                      Eggs  ...   269   12\n",
              "1      2               White Bread  ...   299    0\n",
              "2      3       Arnold Whole Grains  ...   499    0\n",
              "3      4  Clover Farms, Whole Milk  ...   299    0\n",
              "4      5     Clover Farms, 2% Milk  ...   299    8\n",
              "..   ...                       ...  ...   ...  ...\n",
              "369  377     Backwoods, Dark Stout  ...   799    3\n",
              "370  378      Lava2, Black Pod Mod  ...  2799    1\n",
              "371  379    Lava2, Rainbow Pod Mod  ...  2799    2\n",
              "372  380  Lava2, Rose Gold Pod Mod  ...  2799    4\n",
              "373  381       Lava2, Blue Pod Mod  ...  2799    3\n",
              "\n",
              "[374 rows x 5 columns]"
            ]
          },
          "metadata": {
            "tags": []
          },
          "execution_count": 19
        }
      ]
    },
    {
      "cell_type": "code",
      "metadata": {
        "id": "UGNYdoX1w0gW"
      },
      "source": [
        "#Question 1: show all items in the market\n",
        "%sql SELECT * FROM items;"
      ],
      "execution_count": null,
      "outputs": []
    },
    {
      "cell_type": "code",
      "metadata": {
        "id": "EoRIK83wyGTT"
      },
      "source": [
        "#Question 2: show all categories in the market"
      ],
      "execution_count": null,
      "outputs": []
    },
    {
      "cell_type": "code",
      "metadata": {
        "id": "pVuP38a_IGEl"
      },
      "source": [
        "#Question 3: show all item_category in the market"
      ],
      "execution_count": null,
      "outputs": []
    },
    {
      "cell_type": "code",
      "metadata": {
        "id": "i7osCthTIM9r"
      },
      "source": [
        "#Question 4: show all order_items in the market"
      ],
      "execution_count": null,
      "outputs": []
    },
    {
      "cell_type": "code",
      "metadata": {
        "id": "mEhIrvmPCjx8"
      },
      "source": [
        "#Question 5: show only name and price of all items in the market"
      ],
      "execution_count": null,
      "outputs": []
    },
    {
      "cell_type": "code",
      "metadata": {
        "id": "YOgiaQPoxRkP"
      },
      "source": [
        "#Question 6: show only main categories of each category\n",
        "%sql "
      ],
      "execution_count": null,
      "outputs": []
    },
    {
      "cell_type": "code",
      "metadata": {
        "id": "lfodk0wUyW2d"
      },
      "source": [
        "#Q7: show only main categories, without repeating\n",
        "%sql "
      ],
      "execution_count": null,
      "outputs": []
    },
    {
      "cell_type": "code",
      "metadata": {
        "id": "tM-rJCBUzZ7D"
      },
      "source": [
        "#Q8: how many main categories are there\n",
        "%sql"
      ],
      "execution_count": null,
      "outputs": []
    },
    {
      "cell_type": "code",
      "metadata": {
        "id": "DQ-LHP74zxfj"
      },
      "source": [
        "#Q9: how many categories do we have? show result with column name \"NumberOfCategories\"\n",
        "%sql "
      ],
      "execution_count": null,
      "outputs": []
    },
    {
      "cell_type": "code",
      "metadata": {
        "id": "rHA_GY-xCu-Z"
      },
      "source": [
        "#Q10: show all items with a price of less than $10\n",
        "%sql "
      ],
      "execution_count": null,
      "outputs": []
    },
    {
      "cell_type": "code",
      "metadata": {
        "id": "CaZuPtjq02hX"
      },
      "source": [
        "#Q11: show all items with a price less than $5 that is currently in stock\n",
        "%sql "
      ],
      "execution_count": null,
      "outputs": []
    },
    {
      "cell_type": "code",
      "metadata": {
        "id": "HUeexL4o1ZBw"
      },
      "source": [
        "#Q12: show all items in stock, ordered by price with the most expensive item first\n",
        "%sql "
      ],
      "execution_count": null,
      "outputs": []
    },
    {
      "cell_type": "code",
      "metadata": {
        "id": "WY4aF-sCJKfz"
      },
      "source": [
        "#Q13: show the 10 most expensive items in stock\n",
        "%sql "
      ],
      "execution_count": null,
      "outputs": []
    },
    {
      "cell_type": "code",
      "metadata": {
        "id": "r71sLolk4gr1"
      },
      "source": [
        "#Q14: show a list of all item names and their category number. If an item is in multiple categories, show the item once for each category number.\n",
        "%sql "
      ],
      "execution_count": null,
      "outputs": []
    },
    {
      "cell_type": "code",
      "metadata": {
        "id": "btLCvb1ILI9X"
      },
      "source": [
        "#Q15: show a list of all item names, their category name, and their subcategory name. If an item is in multiple categories, show the item once for each category.\n",
        "%sql "
      ],
      "execution_count": null,
      "outputs": []
    },
    {
      "cell_type": "code",
      "metadata": {
        "id": "z8TLbwlILp9J"
      },
      "source": [
        "#Q16: For each category, show the number of subcategories\n",
        "%sql "
      ],
      "execution_count": null,
      "outputs": []
    },
    {
      "cell_type": "code",
      "metadata": {
        "id": "FJ2TnwfVLxwO"
      },
      "source": [
        "#Q17: For each uid in orders, show the number of orders made by that user uid\n",
        "%sql "
      ],
      "execution_count": null,
      "outputs": []
    },
    {
      "cell_type": "code",
      "metadata": {
        "id": "-Ng2sKxl5rJl"
      },
      "source": [
        "#Q18: for each item, show the number of times it has been ordered\n",
        "%sql "
      ],
      "execution_count": null,
      "outputs": []
    },
    {
      "cell_type": "code",
      "metadata": {
        "id": "JyrWk9qGMAb_"
      },
      "source": [
        "#Q19: what is the most popular item in the store?\n",
        "%sql "
      ],
      "execution_count": null,
      "outputs": []
    },
    {
      "cell_type": "code",
      "metadata": {
        "id": "qDhpiMSZ8Z1t"
      },
      "source": [
        "#Q20: show all items that have been ordered more than 50 times\n",
        "%sql "
      ],
      "execution_count": null,
      "outputs": []
    },
    {
      "cell_type": "code",
      "metadata": {
        "id": "aorNOaJtMmm0"
      },
      "source": [
        "#Q21: show a list of all items ordered in June 2021 that are currently out of stock\n",
        "%sql "
      ],
      "execution_count": null,
      "outputs": []
    },
    {
      "cell_type": "code",
      "metadata": {
        "id": "S1bxTQcdDom_"
      },
      "source": [
        "#Q22: show the number of orders placed every month starting from January 2021\n",
        "%sql"
      ],
      "execution_count": null,
      "outputs": []
    },
    {
      "cell_type": "code",
      "metadata": {
        "id": "Xq2Jvts0NMV7"
      },
      "source": [
        "#Q23: how much money has been spent at the store?\n",
        "%sql "
      ],
      "execution_count": null,
      "outputs": []
    },
    {
      "cell_type": "code",
      "metadata": {
        "id": "hz9mAhXxNPgT"
      },
      "source": [
        "#Q24: how much tip has been made?\n",
        "%sql "
      ],
      "execution_count": null,
      "outputs": []
    },
    {
      "cell_type": "code",
      "metadata": {
        "id": "XEDveqCLNcBT"
      },
      "source": [
        "#Q25: who has the fastest delivered orders on average? what is their average delivery time?\n",
        "%sql "
      ],
      "execution_count": null,
      "outputs": []
    },
    {
      "cell_type": "code",
      "metadata": {
        "id": "ua8tI7pxOfUG"
      },
      "source": [
        "#Q26: what is the average delivery time in each year-month? hopefully the delivery time is improving!\n",
        "%sql "
      ],
      "execution_count": null,
      "outputs": []
    },
    {
      "cell_type": "code",
      "metadata": {
        "id": "p6gVlQa9Nlma"
      },
      "source": [
        "#Q27: how many items have been ordered from each main category?\n",
        "%sql "
      ],
      "execution_count": null,
      "outputs": []
    },
    {
      "cell_type": "code",
      "metadata": {
        "id": "3nyZGvxIOLNE"
      },
      "source": [
        "#Q28: what are the top three most popular main categories?\n",
        "%sql "
      ],
      "execution_count": null,
      "outputs": []
    },
    {
      "cell_type": "code",
      "metadata": {
        "id": "2QjfBWoNOQD7"
      },
      "source": [
        "#Q29: what are the top five most popular subcategories?\n",
        "%sql "
      ],
      "execution_count": null,
      "outputs": []
    },
    {
      "cell_type": "code",
      "metadata": {
        "id": "qUDQ6v4wOW6M"
      },
      "source": [
        "#Q30: how much money has been spent on items from each subcategory?\n",
        "%sql "
      ],
      "execution_count": null,
      "outputs": []
    },
    {
      "cell_type": "code",
      "metadata": {
        "id": "TQ2I4MN7PAU9"
      },
      "source": [
        "#Q31: which hour is the most popular for the store?\n",
        "%sql "
      ],
      "execution_count": null,
      "outputs": []
    },
    {
      "cell_type": "code",
      "metadata": {
        "id": "V9Rhv3o7uMxd"
      },
      "source": [
        "#Q32: for each user, what was the first time they placed an order? show only the first time, once per user\n",
        "%sql "
      ],
      "execution_count": null,
      "outputs": []
    },
    {
      "cell_type": "code",
      "metadata": {
        "id": "W_KXE0qWPJjV"
      },
      "source": [
        "#Q??: what interesting conclusions can *you* derive from the data?\n",
        "%sql "
      ],
      "execution_count": null,
      "outputs": []
    }
  ]
}